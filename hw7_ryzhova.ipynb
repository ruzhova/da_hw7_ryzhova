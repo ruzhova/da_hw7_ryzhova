{
 "cells": [
  {
   "cell_type": "markdown",
   "metadata": {},
   "source": [
    "## Задание 1\n",
    "Напишите функцию, которая возвращает название валюты (поле ‘Name’) с максимальным значением курса с помощью сервиса [www.cbr-xml-daily.ru...ly_json.js](https://www.cbr-xml-daily.ru/daily_json.js)\n",
    "## Задание 2.\n",
    "Добавьте в класс Rate параметр diff (со значениями True или False), который в случае значения True в методах курсов валют (eur, usd итд) будет возвращать не курс валюты, а изменение по сравнению в прошлым значением. Считайте, self.diff будет принимать значение True только при возврате значения курса. При отображении всей информации о валюте он не используется.\n",
    "## Задание 3.\n",
    "Напишите класс Designer, который учитывает количество международных премий. Подсказки в коде занятия (“Ноутбук к лекциям «Понятие класса» + презентация”, zip-файл “Используемый ноутбук к лекциям «Понятие класса»).\n",
    "\n",
    "### Комментарий по классу Designer такой:\n",
    "Напишите класс Designer, который учитывает количество международных премий для дизайнеров (из презентации: “Повышение на 1 грейд за каждые 7 баллов. Получение международной премии – это +2 балла”). Считайте, что при выходе на работу сотрудник уже имеет две премии и их количество не меняется со стажем (конечно если хотите это можно вручную менять).\n",
    "\n",
    "Класс Designer пишется по аналогии с классом Developer из материалов занятия.\n",
    "\n"
   ]
  },
  {
   "cell_type": "code",
   "execution_count": 21,
   "metadata": {},
   "outputs": [],
   "source": [
    "from exchange import Rate\n",
    "\n",
    "class CurrencyName(Rate):\n",
    "    def __init__(self, format='value', diff=False):\n",
    "        super().__init__(format)\n",
    "        self.diff = diff\n",
    "    \n",
    "    # задание 1\n",
    "    def get_max_value(self):\n",
    "        \"\"\"\n",
    "        функция возвращает название валюты с максимальным значением курса\n",
    "        \"\"\"\n",
    "\n",
    "        json = Rate.exchange_rates(self)\n",
    "        max_value = max([json[i]['Value'] for i in json])\n",
    "        result_name = [json[i]['Name'] for i in json if json[i]['Value'] == max_value]\n",
    "\n",
    "        return result_name[0]\n",
    "\n",
    "    # задание 2 - переопределяем метод\n",
    "    def make_format(self, currency, diff):\n",
    "        response = self.exchange_rates()\n",
    "        \n",
    "        if diff == False:\n",
    "            if currency in response:\n",
    "                if self.format == 'full':\n",
    "                    return response[currency]\n",
    "                \n",
    "                if self.format == 'value':\n",
    "                    return response[currency]['Value']\n",
    "        else:\n",
    "            return response[currency]['Value'] - response[currency]['Previous']\n",
    "        \n",
    "        return 'Error'\n",
    "\n",
    "    "
   ]
  },
  {
   "cell_type": "code",
   "execution_count": 22,
   "metadata": {},
   "outputs": [
    {
     "name": "stdout",
     "output_type": "stream",
     "text": [
      "Результат 3адания 1:  СДР (специальные права заимствования)\n",
      "Результат 3адания 2 ч.1:  93.1801\n",
      "Результат 3адания 2 ч.2:  -1.1792000000000087\n"
     ]
    }
   ],
   "source": [
    "curr = CurrencyName()\n",
    "print('Результат 3адания 1: ', curr.get_max_value())\n",
    "print('Результат 3адания 2 ч.1: ', curr.make_format('EUR', False))\n",
    "print('Результат 3адания 2 ч.2: ', curr.make_format('EUR', True))\n"
   ]
  },
  {
   "cell_type": "markdown",
   "metadata": {},
   "source": [
    "## Задание 3."
   ]
  },
  {
   "cell_type": "code",
   "execution_count": null,
   "metadata": {},
   "outputs": [],
   "source": [
    "class Employee:\n",
    "    def __init__(self, name, seniority):\n",
    "        self.name = name\n",
    "        self.seniority = seniority\n",
    "        \n",
    "        self.grade = 1\n",
    "    \n",
    "    def grade_up(self):\n",
    "        \"\"\"Повышает уровень сотрудника\"\"\"\n",
    "        self.grade += 1\n",
    "    \n",
    "    def publish_grade(self):\n",
    "        \"\"\"Публикация результатов аккредитации сотрудников\"\"\"\n",
    "        print(self.name, self.grade)\n",
    "    \n",
    "    def check_if_it_is_time_for_upgrade(self):\n",
    "        pass\n",
    "\n",
    "class Designer(Employee):\n",
    "    def __init__(self, name, seniority):\n",
    "        super().__init__(name, seniority)\n",
    "        self.premies = 2\n",
    "        self.seniority += self.premies * 2\n",
    "    \n",
    "    def check_if_it_is_time_for_upgrade(self):\n",
    "        # для каждой аккредитации увеличиваем счетчик на 1\n",
    "        self.seniority += 1\n",
    "        \n",
    "        # условие повышения сотрудника из презентации\n",
    "        if self.seniority % 7 == 0:\n",
    "            self.grade_up()\n",
    "        \n",
    "        # публикация результатов\n",
    "        return self.publish_grade()"
   ]
  },
  {
   "cell_type": "code",
   "execution_count": 30,
   "metadata": {},
   "outputs": [
    {
     "name": "stdout",
     "output_type": "stream",
     "text": [
      "Вася 1\n",
      "Вася 1\n",
      "Вася 2\n"
     ]
    }
   ],
   "source": [
    "employee_designer = Designer('Вася', 1)\n",
    "# поскольку чел дизайнер с 2 премиями, то у него уже есть 5 баллов (4 + 1)\n",
    "employee_designer.publish_grade()\n",
    "# + 1 балл. 6\n",
    "employee_designer.check_if_it_is_time_for_upgrade()\n",
    "# + 1 балл. 7. повышение\n",
    "employee_designer.check_if_it_is_time_for_upgrade()"
   ]
  }
 ],
 "metadata": {
  "kernelspec": {
   "display_name": "venv",
   "language": "python",
   "name": "python3"
  },
  "language_info": {
   "codemirror_mode": {
    "name": "ipython",
    "version": 3
   },
   "file_extension": ".py",
   "mimetype": "text/x-python",
   "name": "python",
   "nbconvert_exporter": "python",
   "pygments_lexer": "ipython3",
   "version": "3.13.2"
  }
 },
 "nbformat": 4,
 "nbformat_minor": 2
}
