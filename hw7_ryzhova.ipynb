{
 "cells": [
  {
   "cell_type": "markdown",
   "metadata": {},
   "source": [
    "## Задание 1\n",
    "Напишите функцию, которая возвращает название валюты (поле ‘Name’) с максимальным значением курса с помощью сервиса [www.cbr-xml-daily.ru...ly_json.js](https://www.cbr-xml-daily.ru/daily_json.js)"
   ]
  },
  {
   "cell_type": "code",
   "execution_count": 13,
   "metadata": {},
   "outputs": [],
   "source": [
    "from exchange import Rate\n",
    "\n",
    "class CurrencyName(Rate):\n",
    "    def __init__(self, format='value'):\n",
    "        super().__init__(format)\n",
    "    \n",
    "    def get_max_value(self):\n",
    "        json = Rate.exchange_rates(self)\n",
    "\n",
    "        max_value = max([json[i]['Value'] for i in json])\n",
    "\n",
    "        result_name = [json[i]['Name'] for i in json if json[i]['Value'] == max_value]\n",
    "\n",
    "        return result_name"
   ]
  },
  {
   "cell_type": "code",
   "execution_count": null,
   "metadata": {},
   "outputs": [
    {
     "name": "stdout",
     "output_type": "stream",
     "text": [
      "['СДР (специальные права заимствования)']\n"
     ]
    }
   ],
   "source": [
    "curr = CurrencyName()\n",
    "print(curr.get_max_value())\n"
   ]
  },
  {
   "cell_type": "markdown",
   "metadata": {},
   "source": []
  }
 ],
 "metadata": {
  "kernelspec": {
   "display_name": "venv",
   "language": "python",
   "name": "python3"
  },
  "language_info": {
   "codemirror_mode": {
    "name": "ipython",
    "version": 3
   },
   "file_extension": ".py",
   "mimetype": "text/x-python",
   "name": "python",
   "nbconvert_exporter": "python",
   "pygments_lexer": "ipython3",
   "version": "3.13.2"
  }
 },
 "nbformat": 4,
 "nbformat_minor": 2
}
